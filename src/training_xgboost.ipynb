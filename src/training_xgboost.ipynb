{
 "cells": [
  {
   "cell_type": "code",
   "execution_count": null,
   "metadata": {},
   "outputs": [],
   "source": [
    "import optuna \n",
    "from xgboost import XGBClassifier\n",
    "from optuna.integration import XGBoostPruningCallback \n",
    "from sklearn.metrics import log_loss\n",
    "from sklearn.model_selection import StratifiedKFold\n",
    "import pandas as pd\n",
    "import numpy as np\n",
    "\n",
    "\n",
    "train_df = pd.read_csv(\"/home/mwanikii/Documents/data_science_projects/financial_inclusivity/input/train_clean.csv\")\n",
    "test_df =  pd.read_csv(\"/home/mwanikii/Documents/data_science_projects/financial_inclusivity/input/test_clean.csv\")\n",
    "\n",
    "#X_train, y_train and X_test\n",
    "y_train = train_df[\"bank_account\"]\n",
    "X_train = train_df.drop([\"bank_account\"], axis=1)\n",
    "X_test = test_df.drop([\"bank_account\"], axis=1)\n",
    "y_test = test_df[\"bank_account\"]\n",
    " \n",
    "def objective(trial, X, y):\n",
    "    parameter_grid = {\n",
    "\n",
    "        \"n_estimators\": trial.suggest_categorical(\"n_estimators\", [10000]),\n",
    "        \"learning_rate\": trial.suggest_float(\"learning_rate\", 0.01, 0.3),\n",
    "        \"max_leaves\": trial.suggest_int(\"max_leaves\", 20, 3000, step=20),\n",
    "        \"max_depth\": trial.suggestion_int(\"max_depth\", 3, 12),\n",
    "        \"max_bin\": trial.suggestion_int(\"max_bin\", 200, 300),\n",
    "        \"lambda\": trial.suggestion_int(\"lambda\", 0, 100, step=5),\n",
    "        \"alpha\": trial.suggestion_int(\"alpha\", 0, 100, step=5),\n",
    "        \"gamma\": trial.suggest_float(\"gamma\", 0, 15),\n",
    "        \n",
    "\n",
    "\n",
    "    }\n"
   ]
  }
 ],
 "metadata": {
  "kernelspec": {
   "display_name": "Python 3.10.4 64-bit",
   "language": "python",
   "name": "python3"
  },
  "language_info": {
   "name": "python",
   "version": "3.10.4"
  },
  "orig_nbformat": 4,
  "vscode": {
   "interpreter": {
    "hash": "916dbcbb3f70747c44a77c7bcd40155683ae19c65e1c03b4aa3499c5328201f1"
   }
  }
 },
 "nbformat": 4,
 "nbformat_minor": 2
}
